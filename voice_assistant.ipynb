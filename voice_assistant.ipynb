{
  "nbformat": 4,
  "nbformat_minor": 0,
  "metadata": {
    "colab": {
      "provenance": []
    },
    "kernelspec": {
      "name": "python3",
      "display_name": "Python 3"
    },
    "language_info": {
      "name": "python"
    }
  },
  "cells": [
    {
      "cell_type": "code",
      "source": [
        "!pip install SpeechRecognition --user\n",
        "!pip install pyttsx3\n",
        "!pip install PyAudio\n"
      ],
      "metadata": {
        "id": "-p7Hr9KLtcYR"
      },
      "execution_count": null,
      "outputs": []
    },
    {
      "cell_type": "code",
      "execution_count": null,
      "metadata": {
        "id": "l03ug2gTtDqM"
      },
      "outputs": [],
      "source": [
        "import speech_recognition as sr\n",
        "import pyttsx3\n",
        "import os\n",
        "import webbrowser\n",
        "import time\n",
        "\n",
        "\n",
        "recognizer = sr.Recognizer()\n",
        "engine = pyttsx3.init()\n",
        "\n",
        "\n",
        "def speak(text):\n",
        "    engine.say(text)\n",
        "    engine.runAndWait()\n",
        "\n",
        "\n",
        "def listen():\n",
        "    with sr.Microphone() as source:\n",
        "        print(\"Listening for your command...\")\n",
        "        audio = recognizer.listen(source)\n",
        "        command = \"\"\n",
        "        try:\n",
        "            command = recognizer.recognize_google(audio).lower()\n",
        "            print(f\"You said: {command}\")\n",
        "        except sr.UnknownValueError:\n",
        "            print(\"Sorry, I didn't understand that.\")\n",
        "        except sr.RequestError:\n",
        "            print(\"Sorry, I am having trouble connecting to the speech recognition service.\")\n",
        "        return command\n",
        "\n",
        "\n",
        "def perform_command(command):\n",
        "    if 'open browser' in command:\n",
        "        speak(\"Opening the web browser.\")\n",
        "        webbrowser.open('https://www.google.com')\n",
        "\n",
        "    elif 'open notepad' in command:\n",
        "        speak(\"Opening Notepad.\")\n",
        "        os.system('notepad')\n",
        "\n",
        "    elif 'open calculator' in command:\n",
        "        speak(\"Opening the calculator.\")\n",
        "        os.system('calc')\n",
        "\n",
        "    elif 'wikipedia search' in command:\n",
        "        search_query = command.replace(\"wikipedia search\", \"\").strip()\n",
        "        if search_query:\n",
        "            speak(f\"Searching Wikipedia for {search_query}\")\n",
        "            webbrowser.open(f\"https://en.wikipedia.org/wiki/{search_query}\")\n",
        "        else:\n",
        "            speak(\"Please specify what to search on Wikipedia.\")\n",
        "\n",
        "    elif 'play video on youtube' in command:\n",
        "        video_query = command.replace(\"play video on youtube\", \"\").strip()\n",
        "        if video_query:\n",
        "            speak(f\"Playing {video_query} on YouTube.\")\n",
        "            webbrowser.open(f\"https://www.youtube.com/results?search_query={video_query}\")\n",
        "        else:\n",
        "            speak(\"Please specify the video to search for on YouTube.\")\n",
        "\n",
        "    else:\n",
        "        speak(\"Sorry, I didn't understand the command.\")\n",
        "\n",
        "\n",
        "def run_assistant():\n",
        "    while True:\n",
        "        command = listen()\n",
        "        if command:\n",
        "            perform_command(command)\n",
        "        time.sleep(1)\n",
        "\n",
        "\n",
        "run_assistant()\n"
      ]
    }
  ]
}